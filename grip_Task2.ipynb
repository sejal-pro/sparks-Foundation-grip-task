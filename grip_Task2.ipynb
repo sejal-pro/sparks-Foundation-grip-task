{
  "nbformat": 4,
  "nbformat_minor": 0,
  "metadata": {
    "colab": {
      "name": "grip_Task2.ipynb",
      "provenance": [],
      "collapsed_sections": []
    },
    "kernelspec": {
      "name": "python3",
      "display_name": "Python 3"
    }
  },
  "cells": [
    {
      "cell_type": "markdown",
      "metadata": {
        "id": "pdMEiIT2VZUo"
      },
      "source": [
        "**Author:Sejal Tawade**\r\n",
        "\r\n",
        "\r\n",
        " **The Sparks Foundation - Data Science and Business Analytics**"
      ]
    },
    {
      "cell_type": "markdown",
      "metadata": {
        "id": "fwVvBz5XTQoJ"
      },
      "source": [
        " **Task 2-Prediction Using Unsupervised ML**"
      ]
    },
    {
      "cell_type": "markdown",
      "metadata": {
        "id": "envQbNaWVF9X"
      },
      "source": [
        "Predicting the optimum number of clusters and representing it visually"
      ]
    },
    {
      "cell_type": "markdown",
      "metadata": {
        "id": "M0ZPk6Ynm9nh"
      },
      "source": [
        "**Importing required Libraries and Datasets**"
      ]
    },
    {
      "cell_type": "code",
      "metadata": {
        "id": "PBKuxVRMnGyo"
      },
      "source": [
        "import pandas as pd\r\n",
        "import numpy as np\r\n",
        "import matplotlib.pyplot as plt\r\n",
        "%matplotlib inline\r\n",
        "from sklearn import datasets"
      ],
      "execution_count": null,
      "outputs": []
    },
    {
      "cell_type": "markdown",
      "metadata": {
        "id": "mKNi83LXo2R0"
      },
      "source": [
        "**Reading and Loading the Iris Datasets**"
      ]
    },
    {
      "cell_type": "code",
      "metadata": {
        "colab": {
          "base_uri": "https://localhost:8080/",
          "height": 213
        },
        "id": "n3u37E-ao-It",
        "outputId": "636d107c-f9ec-42b5-8d61-5626bc9a032b"
      },
      "source": [
        "iris=datasets.load_iris()\r\n",
        "i_data=pd.DataFrame(iris.data,columns=iris.feature_names)\r\n",
        "print(i_data.shape)\r\n",
        "i_data.head()"
      ],
      "execution_count": null,
      "outputs": [
        {
          "output_type": "stream",
          "text": [
            "(150, 4)\n"
          ],
          "name": "stdout"
        },
        {
          "output_type": "execute_result",
          "data": {
            "text/html": [
              "<div>\n",
              "<style scoped>\n",
              "    .dataframe tbody tr th:only-of-type {\n",
              "        vertical-align: middle;\n",
              "    }\n",
              "\n",
              "    .dataframe tbody tr th {\n",
              "        vertical-align: top;\n",
              "    }\n",
              "\n",
              "    .dataframe thead th {\n",
              "        text-align: right;\n",
              "    }\n",
              "</style>\n",
              "<table border=\"1\" class=\"dataframe\">\n",
              "  <thead>\n",
              "    <tr style=\"text-align: right;\">\n",
              "      <th></th>\n",
              "      <th>sepal length (cm)</th>\n",
              "      <th>sepal width (cm)</th>\n",
              "      <th>petal length (cm)</th>\n",
              "      <th>petal width (cm)</th>\n",
              "    </tr>\n",
              "  </thead>\n",
              "  <tbody>\n",
              "    <tr>\n",
              "      <th>0</th>\n",
              "      <td>5.1</td>\n",
              "      <td>3.5</td>\n",
              "      <td>1.4</td>\n",
              "      <td>0.2</td>\n",
              "    </tr>\n",
              "    <tr>\n",
              "      <th>1</th>\n",
              "      <td>4.9</td>\n",
              "      <td>3.0</td>\n",
              "      <td>1.4</td>\n",
              "      <td>0.2</td>\n",
              "    </tr>\n",
              "    <tr>\n",
              "      <th>2</th>\n",
              "      <td>4.7</td>\n",
              "      <td>3.2</td>\n",
              "      <td>1.3</td>\n",
              "      <td>0.2</td>\n",
              "    </tr>\n",
              "    <tr>\n",
              "      <th>3</th>\n",
              "      <td>4.6</td>\n",
              "      <td>3.1</td>\n",
              "      <td>1.5</td>\n",
              "      <td>0.2</td>\n",
              "    </tr>\n",
              "    <tr>\n",
              "      <th>4</th>\n",
              "      <td>5.0</td>\n",
              "      <td>3.6</td>\n",
              "      <td>1.4</td>\n",
              "      <td>0.2</td>\n",
              "    </tr>\n",
              "  </tbody>\n",
              "</table>\n",
              "</div>"
            ],
            "text/plain": [
              "   sepal length (cm)  sepal width (cm)  petal length (cm)  petal width (cm)\n",
              "0                5.1               3.5                1.4               0.2\n",
              "1                4.9               3.0                1.4               0.2\n",
              "2                4.7               3.2                1.3               0.2\n",
              "3                4.6               3.1                1.5               0.2\n",
              "4                5.0               3.6                1.4               0.2"
            ]
          },
          "metadata": {
            "tags": []
          },
          "execution_count": 2
        }
      ]
    },
    {
      "cell_type": "markdown",
      "metadata": {
        "id": "norCJhA6WSyt"
      },
      "source": [
        "Now in this case i have decided to use K-Means Clustering Procedure to predict optimum number of clusters.But first let's visualize the data so that an approximate number of classifications can be assumed."
      ]
    },
    {
      "cell_type": "markdown",
      "metadata": {
        "id": "izi9A-oWpblM"
      },
      "source": [
        "**Predicting the optimum Number of Clusters by k-means Classification**"
      ]
    },
    {
      "cell_type": "code",
      "metadata": {
        "colab": {
          "base_uri": "https://localhost:8080/"
        },
        "id": "o8Gs-LAVprZr",
        "outputId": "ee8b3ede-f452-44f5-b603-b03cc070b69a"
      },
      "source": [
        "from sklearn.cluster import KMeans\r\n",
        "x=i_data.iloc[:,[0,1,2,3]].values\r\n",
        "kmeans=KMeans(n_clusters=9)\r\n",
        "kmeans.fit(x)"
      ],
      "execution_count": null,
      "outputs": [
        {
          "output_type": "execute_result",
          "data": {
            "text/plain": [
              "KMeans(algorithm='auto', copy_x=True, init='k-means++', max_iter=300,\n",
              "       n_clusters=9, n_init=10, n_jobs=None, precompute_distances='auto',\n",
              "       random_state=None, tol=0.0001, verbose=0)"
            ]
          },
          "metadata": {
            "tags": []
          },
          "execution_count": 6
        }
      ]
    },
    {
      "cell_type": "code",
      "metadata": {
        "colab": {
          "base_uri": "https://localhost:8080/"
        },
        "id": "C1bbjQAHqRQ1",
        "outputId": "8a2d6a81-adb7-49da-d15d-fc8cb9d1c135"
      },
      "source": [
        "y_means=KMeans(n_clusters=9)\r\n",
        "kmeans.fit(x)"
      ],
      "execution_count": null,
      "outputs": [
        {
          "output_type": "execute_result",
          "data": {
            "text/plain": [
              "KMeans(algorithm='auto', copy_x=True, init='k-means++', max_iter=300,\n",
              "       n_clusters=9, n_init=10, n_jobs=None, precompute_distances='auto',\n",
              "       random_state=None, tol=0.0001, verbose=0)"
            ]
          },
          "metadata": {
            "tags": []
          },
          "execution_count": 8
        }
      ]
    },
    {
      "cell_type": "code",
      "metadata": {
        "colab": {
          "base_uri": "https://localhost:8080/",
          "height": 268
        },
        "id": "qrdA-n6EqhDr",
        "outputId": "3ecfd8bd-5402-4f33-be30-1ba3adc7a2fd"
      },
      "source": [
        "y_means=kmeans.predict(x)\r\n",
        "\r\n",
        "#plotting the Dataset for better observation\r\n",
        "\r\n",
        "plt.scatter(x[:,0],x[:,1],c=y_means,s=10,cmap='inferno')\r\n",
        "centers=kmeans.cluster_centers_\r\n",
        "plt.scatter(centers[:,0],centers[:,1],c='green',s=500,alpha=0.7);"
      ],
      "execution_count": null,
      "outputs": [
        {
          "output_type": "display_data",
          "data": {
            "image/png": "[encoded data removed]",
            "text/plain": [
              "<Figure size 432x288 with 1 Axes>"
            ]
          },
          "metadata": {
            "tags": [],
            "needs_background": "light"
          }
        }
      ]
    },
    {
      "cell_type": "markdown",
      "metadata": {
        "id": "6IXi-LSNYND2"
      },
      "source": [
        "Quite clearly and safely we can expect that optimum number of clusters should be 2 or 3.Now with the help of Elbow Method we can confirm suitable number here."
      ]
    },
    {
      "cell_type": "markdown",
      "metadata": {
        "id": "KatEtxz1w-Pw"
      },
      "source": [
        "**Predicting optimum number of clusters using elbow method**"
      ]
    },
    {
      "cell_type": "code",
      "metadata": {
        "colab": {
          "base_uri": "https://localhost:8080/"
        },
        "id": "71rZxZvtyL7m",
        "outputId": "cf001758-5e91-4060-cb0b-71da7fc95cfb"
      },
      "source": [
        "kmeans.inertia_"
      ],
      "execution_count": null,
      "outputs": [
        {
          "output_type": "execute_result",
          "data": {
            "text/plain": [
              "28.592141053391057"
            ]
          },
          "metadata": {
            "tags": []
          },
          "execution_count": 22
        }
      ]
    },
    {
      "cell_type": "code",
      "metadata": {
        "id": "whr0IgutxNDt"
      },
      "source": [
        "see_=[]  #within-cluster sums of squared Error\r\n",
        "for k in range(1,11):\r\n",
        "  Kmeans=KMeans(n_clusters=k).fit(x)\r\n",
        "  see_.append([k,Kmeans.inertia_])"
      ],
      "execution_count": null,
      "outputs": []
    },
    {
      "cell_type": "markdown",
      "metadata": {
        "id": "D0Jm4mAZyUQB"
      },
      "source": [
        "**Plotting the results of this method to observe the \"elbow(s)\" in a line graph**"
      ]
    },
    {
      "cell_type": "code",
      "metadata": {
        "colab": {
          "base_uri": "https://localhost:8080/",
          "height": 295
        },
        "id": "hYyMl9LyzINr",
        "outputId": "b0d2cf29-712d-4c12-c1e1-c3bf62781539"
      },
      "source": [
        "plt.plot(pd.DataFrame(see_)[0],pd.DataFrame(see_)[1]);\r\n",
        "plt.title('The elbow Method')\r\n",
        "plt.xlabel('Number of Clusters')\r\n",
        "plt.ylabel('within_cluster sums of squared Error')\r\n",
        "plt.show()"
      ],
      "execution_count": null,
      "outputs": [
        {
          "output_type": "display_data",
          "data": {
            "image/png": "[encoded data removed]",
            "text/plain": [
              "<Figure size 432x288 with 1 Axes>"
            ]
          },
          "metadata": {
            "tags": [],
            "needs_background": "light"
          }
        }
      ]
    },
    {
      "cell_type": "code",
      "metadata": {
        "id": "w6jHAzr9781N"
      },
      "source": [
        "#Predicting the Optimum Number of Clusters using Silhouette Analysis\r\n",
        "from sklearn.metrics import silhouette_score"
      ],
      "execution_count": null,
      "outputs": []
    },
    {
      "cell_type": "code",
      "metadata": {
        "id": "Dbb8rVv58DEu"
      },
      "source": [
        "see_ = []\r\n",
        "for k in range(2, 11):\r\n",
        "    kmeans = KMeans(n_clusters=k).fit(x)\r\n",
        "    see_.append([k, silhouette_score(x, kmeans.labels_)])"
      ],
      "execution_count": null,
      "outputs": []
    },
    {
      "cell_type": "code",
      "metadata": {
        "colab": {
          "base_uri": "https://localhost:8080/",
          "height": 295
        },
        "id": "S8MJIFf08Qy8",
        "outputId": "a478e57f-6208-4826-f4f9-01010f4701c7"
      },
      "source": [
        "#Plotting the Results of this Analysis Procedure for Better Understanding\r\n",
        "plt.plot(pd.DataFrame(see_)[0], pd.DataFrame(see_)[1]);\r\n",
        "plt.title('The Silhouette Analysis')\r\n",
        "plt.xlabel('Number of Clusters')\r\n",
        "plt.ylabel('Silhouette Score') \r\n",
        "plt.show()"
      ],
      "execution_count": null,
      "outputs": [
        {
          "output_type": "display_data",
          "data": {
            "image/png": "[encoded data removed]",
            "text/plain": [
              "<Figure size 432x288 with 1 Axes>"
            ]
          },
          "metadata": {
            "tags": [],
            "needs_background": "light"
          }
        }
      ]
    },
    {
      "cell_type": "markdown",
      "metadata": {
        "id": "BwVhTetMZiHw"
      },
      "source": [
        "**concluding from both the above analysis, I have decided to choose optimum number of clusters as 3**"
      ]
    },
    {
      "cell_type": "code",
      "metadata": {
        "colab": {
          "base_uri": "https://localhost:8080/",
          "height": 390
        },
        "id": "B2q9GCTH8Y4F",
        "outputId": "9fb8f19e-60f7-4fe4-bfa4-7e27c3d5b1b9"
      },
      "source": [
        "#Applying K_Means Classifier to the IRIS Dataset\r\n",
        "\r\n",
        "\r\n",
        "\r\n",
        "kmeans = KMeans(n_clusters = 3, init = 'k-means++',\r\n",
        "                max_iter = 300, n_init = 10, random_state = 0)\r\n",
        "y_kmeans = kmeans.fit_predict(x)\r\n",
        "\r\n",
        "\r\n",
        "#Representing the Clusters for Visualisation\r\n",
        "plt.figure(figsize=(8,6))\r\n",
        "plt.scatter(x[y_kmeans == 0, 0], x[y_kmeans == 0, 1], \r\n",
        "            s = 100, marker='*', c = 'brown', label = 'iris-setosa')\r\n",
        "plt.scatter(x[y_kmeans == 1, 0], x[y_kmeans == 1, 1], \r\n",
        "            s = 100, marker='*', c = 'darkgreen', label = 'iris-versicolour')\r\n",
        "plt.scatter(x[y_kmeans == 2, 0], x[y_kmeans == 2, 1],\r\n",
        "            s = 100, marker='*', c = 'indigo', label = 'iris-virginica')\r\n",
        "\r\n",
        "#Plotting the Respective Centroids of the Clusters\r\n",
        "plt.scatter(kmeans.cluster_centers_[:, 0], kmeans.cluster_centers_[:,1], \r\n",
        "            s = 100, marker=',', c='gold', label = 'Centroids')\r\n",
        "\r\n",
        "plt.legend()\r\n",
        "plt.title('Clusters with their Centroids');"
      ],
      "execution_count": null,
      "outputs": [
        {
          "output_type": "display_data",
          "data": {
            "image/png": "[encoded data removed]",
            "text/plain": [
              "<Figure size 576x432 with 1 Axes>"
            ]
          },
          "metadata": {
            "tags": [],
            "needs_background": "light"
          }
        }
      ]
    },
    {
      "cell_type": "markdown",
      "metadata": {
        "id": "Fl4rApjTaI4a"
      },
      "source": [
        "**Above Scatter Plot is the visual Representation for the given Iris Dataset where we can observe that the optimum Number of clusters is 3 for this Data**"
      ]
    }
  ]
}